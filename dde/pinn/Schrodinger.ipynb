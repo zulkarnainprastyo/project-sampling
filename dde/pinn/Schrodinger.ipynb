{
 "cells": [
  {
   "cell_type": "code",
   "execution_count": 2,
   "metadata": {},
   "outputs": [
    {
     "name": "stdout",
     "output_type": "stream",
     "text": [
      "Defaulting to user installation because normal site-packages is not writeable\n",
      "Requirement already satisfied: deepxde in c:\\users\\zulkarnain prastyo\\appdata\\roaming\\python\\python310\\site-packages (1.8.0)\n",
      "Requirement already satisfied: matplotlib in c:\\users\\zulkarnain prastyo\\appdata\\roaming\\python\\python310\\site-packages (from deepxde) (3.6.2)\n",
      "Requirement already satisfied: scipy in c:\\users\\zulkarnain prastyo\\appdata\\roaming\\python\\python310\\site-packages (from deepxde) (1.9.3)\n",
      "Requirement already satisfied: scikit-learn in c:\\users\\zulkarnain prastyo\\appdata\\roaming\\python\\python310\\site-packages (from deepxde) (1.1.3)\n",
      "Requirement already satisfied: scikit-optimize>=0.9.0 in c:\\users\\zulkarnain prastyo\\appdata\\roaming\\python\\python310\\site-packages (from deepxde) (0.9.0)\n",
      "Requirement already satisfied: numpy in c:\\users\\zulkarnain prastyo\\appdata\\roaming\\python\\python310\\site-packages (from deepxde) (1.23.5)\n",
      "Requirement already satisfied: pyaml>=16.9 in c:\\users\\zulkarnain prastyo\\appdata\\roaming\\python\\python310\\site-packages (from scikit-optimize>=0.9.0->deepxde) (21.10.1)\n",
      "Requirement already satisfied: joblib>=0.11 in c:\\users\\zulkarnain prastyo\\appdata\\roaming\\python\\python310\\site-packages (from scikit-optimize>=0.9.0->deepxde) (1.2.0)\n",
      "Requirement already satisfied: threadpoolctl>=2.0.0 in c:\\users\\zulkarnain prastyo\\appdata\\roaming\\python\\python310\\site-packages (from scikit-learn->deepxde) (3.1.0)\n",
      "Requirement already satisfied: fonttools>=4.22.0 in c:\\users\\zulkarnain prastyo\\appdata\\roaming\\python\\python310\\site-packages (from matplotlib->deepxde) (4.38.0)\n",
      "Requirement already satisfied: pyparsing>=2.2.1 in c:\\users\\zulkarnain prastyo\\appdata\\roaming\\python\\python310\\site-packages (from matplotlib->deepxde) (3.0.9)\n",
      "Requirement already satisfied: packaging>=20.0 in c:\\users\\zulkarnain prastyo\\appdata\\roaming\\python\\python310\\site-packages (from matplotlib->deepxde) (21.3)\n",
      "Requirement already satisfied: cycler>=0.10 in c:\\users\\zulkarnain prastyo\\appdata\\roaming\\python\\python310\\site-packages (from matplotlib->deepxde) (0.11.0)\n",
      "Requirement already satisfied: pillow>=6.2.0 in c:\\users\\zulkarnain prastyo\\appdata\\roaming\\python\\python310\\site-packages (from matplotlib->deepxde) (9.3.0)\n",
      "Requirement already satisfied: kiwisolver>=1.0.1 in c:\\users\\zulkarnain prastyo\\appdata\\roaming\\python\\python310\\site-packages (from matplotlib->deepxde) (1.4.4)\n",
      "Requirement already satisfied: contourpy>=1.0.1 in c:\\users\\zulkarnain prastyo\\appdata\\roaming\\python\\python310\\site-packages (from matplotlib->deepxde) (1.0.6)\n",
      "Requirement already satisfied: python-dateutil>=2.7 in c:\\users\\zulkarnain prastyo\\appdata\\roaming\\python\\python310\\site-packages (from matplotlib->deepxde) (2.8.2)\n",
      "Requirement already satisfied: PyYAML in c:\\users\\zulkarnain prastyo\\appdata\\roaming\\python\\python310\\site-packages (from pyaml>=16.9->scikit-optimize>=0.9.0->deepxde) (6.0)\n",
      "Requirement already satisfied: six>=1.5 in c:\\users\\zulkarnain prastyo\\appdata\\roaming\\python\\python310\\site-packages (from python-dateutil>=2.7->matplotlib->deepxde) (1.16.0)\n"
     ]
    }
   ],
   "source": [
    "!pip install deepxde"
   ]
  },
  {
   "attachments": {},
   "cell_type": "markdown",
   "metadata": {},
   "source": [
    "Deepxde only uses real numbers, so I  need to explicitly split the real and imaginary parts of the complex PDE.\n"
   ]
  },
  {
   "cell_type": "code",
   "execution_count": 3,
   "metadata": {},
   "outputs": [
    {
     "name": "stderr",
     "output_type": "stream",
     "text": [
      "Using backend: tensorflow.compat.v1\n",
      "\n"
     ]
    },
    {
     "name": "stdout",
     "output_type": "stream",
     "text": [
      "WARNING:tensorflow:From C:\\Users\\zulkarnain prastyo\\AppData\\Roaming\\Python\\Python310\\site-packages\\tensorflow\\python\\compat\\v2_compat.py:107: disable_resource_variables (from tensorflow.python.ops.variable_scope) is deprecated and will be removed in a future version.\n",
      "Instructions for updating:\n",
      "non-resource variables are not supported in the long term\n",
      "WARNING:tensorflow:From C:\\Users\\zulkarnain prastyo\\AppData\\Roaming\\Python\\Python310\\site-packages\\deepxde\\nn\\initializers.py:118: The name tf.keras.initializers.he_normal is deprecated. Please use tf.compat.v1.keras.initializers.he_normal instead.\n",
      "\n"
     ]
    }
   ],
   "source": [
    "import numpy as np\n",
    "\n",
    "import deepxde as dde\n",
    "\n",
    "# For plotting\n",
    "import matplotlib.pyplot as plt\n",
    "from scipy.interpolate import griddata"
   ]
  },
  {
   "cell_type": "code",
   "execution_count": 4,
   "metadata": {},
   "outputs": [],
   "source": [
    "x_lower = -5\n",
    "x_upper = 5\n",
    "t_lower = 0\n",
    "t_upper = np.pi / 2\n",
    "\n",
    "# Creation of the 2D domain (for plotting and input)\n",
    "x = np.linspace(x_lower, x_upper, 256)\n",
    "t = np.linspace(t_lower, t_upper, 201)\n",
    "X, T = np.meshgrid(x, t)\n",
    "\n",
    "# The whole domain flattened\n",
    "X_star = np.hstack((X.flatten()[:, None], T.flatten()[:, None]))\n",
    "\n",
    "# Space and time domains/geometry (for the deepxde model)\n",
    "space_domain = dde.geometry.Interval(x_lower, x_upper)\n",
    "time_domain = dde.geometry.TimeDomain(t_lower, t_upper)\n",
    "geomtime = dde.geometry.GeometryXTime(space_domain, time_domain)"
   ]
  },
  {
   "cell_type": "code",
   "execution_count": 5,
   "metadata": {},
   "outputs": [],
   "source": [
    "# The \"physics-informed\" part of the loss\n",
    "\n",
    "\n",
    "def pde(x, y):\n",
    "    \"\"\"\n",
    "    INPUTS:\n",
    "        x: x[:,0] is x-coordinate\n",
    "           x[:,1] is t-coordinate\n",
    "        y: Network output, in this case:\n",
    "            y[:,0] is u(x,t) the real part\n",
    "            y[:,1] is v(x,t) the imaginary part\n",
    "    OUTPUT:\n",
    "        The pde in standard form i.e. something that must be zero\n",
    "    \"\"\"\n",
    "\n",
    "    u = y[:, 0:1]\n",
    "    v = y[:, 1:2]\n",
    "\n",
    "    # In 'jacobian', i is the output component and j is the input component\n",
    "    u_t = dde.grad.jacobian(y, x, i=0, j=1)\n",
    "    v_t = dde.grad.jacobian(y, x, i=1, j=1)\n",
    "\n",
    "    u_x = dde.grad.jacobian(y, x, i=0, j=0)\n",
    "    v_x = dde.grad.jacobian(y, x, i=1, j=0)\n",
    "\n",
    "    # In 'hessian', i and j are both input components. (The Hessian could be in principle something like d^2y/dxdt, d^2y/d^2x etc)\n",
    "    # The output component is selected by \"component\"\n",
    "    u_xx = dde.grad.hessian(y, x, component=0, i=0, j=0)\n",
    "    v_xx = dde.grad.hessian(y, x, component=1, i=0, j=0)\n",
    "\n",
    "    f_u = u_t + 0.5 * v_xx + (u ** 2 + v ** 2) * v\n",
    "    f_v = v_t - 0.5 * u_xx - (u ** 2 + v ** 2) * u\n",
    "\n",
    "    return [f_u, f_v]"
   ]
  },
  {
   "cell_type": "code",
   "execution_count": 6,
   "metadata": {},
   "outputs": [],
   "source": [
    "# Boundary and Initial conditions\n",
    "\n",
    "# Periodic Boundary conditions\n",
    "bc_u_0 = dde.icbc.PeriodicBC(\n",
    "    geomtime, 0, lambda _, on_boundary: on_boundary, derivative_order=0, component=0\n",
    ")\n",
    "bc_u_1 = dde.icbc.PeriodicBC(\n",
    "    geomtime, 0, lambda _, on_boundary: on_boundary, derivative_order=1, component=0\n",
    ")\n",
    "bc_v_0 = dde.icbc.PeriodicBC(\n",
    "    geomtime, 0, lambda _, on_boundary: on_boundary, derivative_order=0, component=1\n",
    ")\n",
    "bc_v_1 = dde.icbc.PeriodicBC(\n",
    "    geomtime, 0, lambda _, on_boundary: on_boundary, derivative_order=1, component=1\n",
    ")\n",
    "\n",
    "# Initial conditions\n",
    "def init_cond_u(x):\n",
    "    \"2 sech(x)\"\n",
    "    return 2 / np.cosh(x[:, 0:1])\n",
    "\n",
    "\n",
    "def init_cond_v(x):\n",
    "    return 0\n",
    "\n",
    "\n",
    "ic_u = dde.icbc.IC(geomtime, init_cond_u, lambda _, on_initial: on_initial, component=0)\n",
    "ic_v = dde.icbc.IC(geomtime, init_cond_v, lambda _, on_initial: on_initial, component=1)"
   ]
  },
  {
   "cell_type": "code",
   "execution_count": 7,
   "metadata": {},
   "outputs": [],
   "source": [
    "data = dde.data.TimePDE(\n",
    "    geomtime,\n",
    "    pde,\n",
    "    [bc_u_0, bc_u_1, bc_v_0, bc_v_1, ic_u, ic_v],\n",
    "    num_domain=10000,\n",
    "    num_boundary=20,\n",
    "    num_initial=200,\n",
    "    train_distribution=\"pseudo\",\n",
    ")\n",
    "\n",
    "# Network architecture\n",
    "net = dde.nn.FNN([2] + [100] * 4 + [2], \"tanh\", \"Glorot normal\")\n",
    "\n",
    "model = dde.Model(data, net)"
   ]
  },
  {
   "cell_type": "code",
   "execution_count": 8,
   "metadata": {},
   "outputs": [
    {
     "name": "stdout",
     "output_type": "stream",
     "text": [
      "Compiling model...\n",
      "Building feed-forward neural network...\n",
      "'build' took 0.145841 s\n",
      "\n"
     ]
    },
    {
     "name": "stderr",
     "output_type": "stream",
     "text": [
      "C:\\Users\\zulkarnain prastyo\\AppData\\Roaming\\Python\\Python310\\site-packages\\deepxde\\nn\\tensorflow_compat_v1\\fnn.py:114: UserWarning: `tf.layers.dense` is deprecated and will be removed in a future version. Please use `tf.keras.layers.Dense` instead.\n",
      "  return tf.layers.dense(\n"
     ]
    },
    {
     "name": "stdout",
     "output_type": "stream",
     "text": [
      "'compile' took 3.604132 s\n",
      "\n",
      "Initializing variables...\n",
      "Training model...\n",
      "\n",
      "Step      Train loss                                                                          Test loss                                                                           Test metric\n",
      "0         [3.50e-02, 2.34e-02, 1.43e-01, 2.38e-03, 6.94e-01, 6.87e-05, 1.01e+00, 8.41e-02]    [3.50e-02, 2.34e-02, 1.43e-01, 2.38e-03, 6.94e-01, 6.87e-05, 1.01e+00, 8.41e-02]    []  \n",
      "1000      [1.28e-02, 1.55e-02, 9.51e-06, 2.06e-04, 5.20e-06, 2.35e-06, 2.02e-02, 2.24e-03]    [1.28e-02, 1.55e-02, 9.51e-06, 2.06e-04, 5.20e-06, 2.35e-06, 2.02e-02, 2.24e-03]    []  \n",
      "2000      [8.32e-03, 9.71e-03, 3.26e-05, 8.55e-05, 2.41e-05, 2.48e-05, 1.21e-02, 5.58e-04]    [8.32e-03, 9.71e-03, 3.26e-05, 8.55e-05, 2.41e-05, 2.48e-05, 1.21e-02, 5.58e-04]    []  \n",
      "3000      [5.32e-03, 5.48e-03, 2.75e-06, 3.40e-05, 2.23e-05, 4.17e-05, 6.16e-03, 4.88e-05]    [5.32e-03, 5.48e-03, 2.75e-06, 3.40e-05, 2.23e-05, 4.17e-05, 6.16e-03, 4.88e-05]    []  \n",
      "4000      [3.51e-03, 3.18e-03, 1.66e-06, 1.14e-05, 2.00e-06, 2.78e-05, 3.51e-03, 5.08e-05]    [3.51e-03, 3.18e-03, 1.66e-06, 1.14e-05, 2.00e-06, 2.78e-05, 3.51e-03, 5.08e-05]    []  \n",
      "5000      [2.95e-03, 1.81e-03, 7.51e-06, 8.53e-06, 2.90e-05, 1.90e-05, 2.21e-03, 3.67e-05]    [2.95e-03, 1.81e-03, 7.51e-06, 8.53e-06, 2.90e-05, 1.90e-05, 2.21e-03, 3.67e-05]    []  \n",
      "6000      [4.90e-03, 1.01e-03, 1.22e-04, 4.07e-06, 1.35e-04, 1.36e-05, 1.49e-03, 4.63e-05]    [4.90e-03, 1.01e-03, 1.22e-04, 4.07e-06, 1.35e-04, 1.36e-05, 1.49e-03, 4.63e-05]    []  \n",
      "7000      [1.65e-02, 1.05e-02, 2.95e-03, 6.30e-06, 1.59e-04, 1.04e-05, 2.28e-03, 8.58e-05]    [1.65e-02, 1.05e-02, 2.95e-03, 6.30e-06, 1.59e-04, 1.04e-05, 2.28e-03, 8.58e-05]    []  \n",
      "8000      [1.03e-03, 2.40e-03, 1.46e-06, 3.66e-06, 7.65e-06, 4.77e-06, 3.60e-04, 1.82e-05]    [1.03e-03, 2.40e-03, 1.46e-06, 3.66e-06, 7.65e-06, 4.77e-06, 3.60e-04, 1.82e-05]    []  \n",
      "9000      [5.04e-04, 5.06e-04, 8.64e-05, 1.43e-06, 5.44e-05, 3.45e-06, 3.06e-04, 2.11e-05]    [5.04e-04, 5.06e-04, 8.64e-05, 1.43e-06, 5.44e-05, 3.45e-06, 3.06e-04, 2.11e-05]    []  \n",
      "10000     [1.80e-03, 2.65e-03, 1.13e-04, 2.97e-06, 5.37e-07, 2.23e-06, 1.26e-04, 1.67e-05]    [1.80e-03, 2.65e-03, 1.13e-04, 2.97e-06, 5.37e-07, 2.23e-06, 1.26e-04, 1.67e-05]    []  \n",
      "\n",
      "Best model at step 9000:\n",
      "  train loss: 1.48e-03\n",
      "  test loss: 1.48e-03\n",
      "  test metric: []\n",
      "\n",
      "'train' took 5104.236827 s\n",
      "\n"
     ]
    },
    {
     "data": {
      "text/plain": [
       "(<deepxde.model.LossHistory at 0x1e672cd4eb0>,\n",
       " <deepxde.model.TrainState at 0x1e672cd5210>)"
      ]
     },
     "execution_count": 8,
     "metadata": {},
     "output_type": "execute_result"
    }
   ],
   "source": [
    "# To employ a GPU accelerated system is highly encouraged.\n",
    "\n",
    "model.compile(\"adam\", lr=1e-3, loss=\"MSE\")\n",
    "model.train(iterations=10000, display_every=1000)"
   ]
  },
  {
   "cell_type": "code",
   "execution_count": 9,
   "metadata": {},
   "outputs": [
    {
     "name": "stdout",
     "output_type": "stream",
     "text": [
      "Compiling model...\n",
      "'compile' took 1.076994 s\n",
      "\n",
      "Training model...\n",
      "\n",
      "Step      Train loss                                                                          Test loss                                                                           Test metric\n",
      "10000     [1.80e-03, 2.65e-03, 1.13e-04, 2.97e-06, 5.37e-07, 2.23e-06, 1.26e-04, 1.67e-05]    [1.80e-03, 2.65e-03, 1.13e-04, 2.97e-06, 5.37e-07, 2.23e-06, 1.26e-04, 1.67e-05]    []  \n",
      "11000     [1.96e-05, 2.97e-05, 7.53e-08, 8.04e-07, 6.90e-08, 3.09e-07, 8.82e-06, 7.32e-07]    [1.96e-05, 2.97e-05, 7.53e-08, 8.04e-07, 6.90e-08, 3.09e-07, 8.82e-06, 7.32e-07]        \n",
      "12000     [5.93e-06, 8.79e-06, 1.99e-08, 1.28e-07, 3.06e-08, 2.23e-07, 5.01e-06, 1.51e-07]    [5.93e-06, 8.79e-06, 1.99e-08, 1.28e-07, 3.06e-08, 2.23e-07, 5.01e-06, 1.51e-07]        \n",
      "13000     [3.04e-06, 3.77e-06, 8.41e-09, 1.57e-07, 1.30e-08, 1.22e-07, 3.76e-06, 7.08e-08]    [3.04e-06, 3.77e-06, 8.41e-09, 1.57e-07, 1.30e-08, 1.22e-07, 3.76e-06, 7.08e-08]        \n",
      "14000     [1.98e-06, 2.32e-06, 2.30e-08, 1.18e-07, 2.27e-08, 1.29e-08, 2.91e-06, 6.73e-08]    [1.98e-06, 2.32e-06, 2.30e-08, 1.18e-07, 2.27e-08, 1.29e-08, 2.91e-06, 6.73e-08]        \n",
      "15000     [1.30e-06, 1.64e-06, 1.19e-08, 3.22e-08, 2.22e-08, 4.75e-09, 2.49e-06, 6.21e-08]    [1.30e-06, 1.64e-06, 1.19e-08, 3.22e-08, 2.22e-08, 4.75e-09, 2.49e-06, 6.21e-08]        \n",
      "16000     [1.05e-06, 1.22e-06, 3.37e-09, 4.29e-08, 2.23e-08, 6.12e-09, 2.12e-06, 5.55e-08]    [1.05e-06, 1.22e-06, 3.37e-09, 4.29e-08, 2.23e-08, 6.12e-09, 2.12e-06, 5.55e-08]        \n",
      "INFO:tensorflow:Optimization terminated with:\n",
      "  Message: CONVERGENCE: REL_REDUCTION_OF_F_<=_FACTR*EPSMCH\n",
      "  Objective function value: 0.000004\n",
      "  Number of iterations: 5924\n",
      "  Number of functions evaluations: 6360\n",
      "16360     [9.45e-07, 1.16e-06, 3.24e-09, 4.23e-08, 2.35e-08, 3.82e-09, 2.02e-06, 5.05e-08]    [9.45e-07, 1.16e-06, 3.24e-09, 4.23e-08, 2.35e-08, 3.82e-09, 2.02e-06, 5.05e-08]    []  \n",
      "\n",
      "Best model at step 16360:\n",
      "  train loss: 4.24e-06\n",
      "  test loss: 4.24e-06\n",
      "  test metric: []\n",
      "\n",
      "'train' took 3126.940901 s\n",
      "\n"
     ]
    },
    {
     "data": {
      "text/plain": [
       "(<deepxde.model.LossHistory at 0x1e672cd4eb0>,\n",
       " <deepxde.model.TrainState at 0x1e672cd5210>)"
      ]
     },
     "execution_count": 9,
     "metadata": {},
     "output_type": "execute_result"
    }
   ],
   "source": [
    "dde.optimizers.config.set_LBFGS_options(\n",
    "    maxcor=50,\n",
    "    ftol=1.0 * np.finfo(float).eps,\n",
    "    gtol=1e-08,\n",
    "    maxiter=10000,\n",
    "    maxfun=10000,\n",
    "    maxls=50,\n",
    ")\n",
    "model.compile(\"L-BFGS\")\n",
    "model.train()"
   ]
  },
  {
   "cell_type": "code",
   "execution_count": 10,
   "metadata": {},
   "outputs": [
    {
     "data": {
      "image/png": "[encoded data removed]",
      "text/plain": [
       "<Figure size 432x288 with 3 Axes>"
      ]
     },
     "metadata": {
      "needs_background": "light"
     },
     "output_type": "display_data"
    }
   ],
   "source": [
    "# Make prediction\n",
    "prediction = model.predict(X_star, operator=None)\n",
    "\n",
    "u = griddata(X_star, prediction[:, 0], (X, T), method=\"cubic\")\n",
    "v = griddata(X_star, prediction[:, 1], (X, T), method=\"cubic\")\n",
    "\n",
    "h = np.sqrt(u ** 2 + v ** 2)\n",
    "\n",
    "\n",
    "# Plot predictions\n",
    "fig, ax = plt.subplots(3)\n",
    "\n",
    "ax[0].set_title(\"Results\")\n",
    "ax[0].set_ylabel(\"Real part\")\n",
    "ax[0].imshow(\n",
    "    u.T,\n",
    "    interpolation=\"nearest\",\n",
    "    cmap=\"viridis\",\n",
    "    extent=[t_lower, t_upper, x_lower, x_upper],\n",
    "    origin=\"lower\",\n",
    "    aspect=\"auto\",\n",
    ")\n",
    "ax[1].set_ylabel(\"Imaginary part\")\n",
    "ax[1].imshow(\n",
    "    v.T,\n",
    "    interpolation=\"nearest\",\n",
    "    cmap=\"viridis\",\n",
    "    extent=[t_lower, t_upper, x_lower, x_upper],\n",
    "    origin=\"lower\",\n",
    "    aspect=\"auto\",\n",
    ")\n",
    "ax[2].set_ylabel(\"Amplitude\")\n",
    "ax[2].imshow(\n",
    "    h.T,\n",
    "    interpolation=\"nearest\",\n",
    "    cmap=\"viridis\",\n",
    "    extent=[t_lower, t_upper, x_lower, x_upper],\n",
    "    origin=\"lower\",\n",
    "    aspect=\"auto\",\n",
    ")\n",
    "\n",
    "plt.show()"
   ]
  },
  {
   "cell_type": "code",
   "execution_count": null,
   "metadata": {},
   "outputs": [],
   "source": []
  }
 ],
 "metadata": {
  "kernelspec": {
   "display_name": "Python 3",
   "language": "python",
   "name": "python3"
  },
  "language_info": {
   "codemirror_mode": {
    "name": "ipython",
    "version": 3
   },
   "file_extension": ".py",
   "mimetype": "text/x-python",
   "name": "python",
   "nbconvert_exporter": "python",
   "pygments_lexer": "ipython3",
   "version": "3.10.5"
  },
  "orig_nbformat": 4,
  "vscode": {
   "interpreter": {
    "hash": "26de051ba29f2982a8de78e945f0abaf191376122a1563185a90213a26c5da77"
   }
  }
 },
 "nbformat": 4,
 "nbformat_minor": 2
}
